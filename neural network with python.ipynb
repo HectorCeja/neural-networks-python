{
 "cells": [
  {
   "cell_type": "code",
   "execution_count": 58,
   "metadata": {
    "collapsed": false
   },
   "outputs": [],
   "source": [
    "import numpy as np\n",
    "import scipy.special as sigmoid # funcion sigmoide para evaluacion"
   ]
  },
  {
   "cell_type": "markdown",
   "metadata": {},
   "source": [
    "## creamos esqueleto(clase) de la red neuronal"
   ]
  },
  {
   "cell_type": "code",
   "execution_count": 137,
   "metadata": {
    "collapsed": true
   },
   "outputs": [],
   "source": [
    "class NeuralNetwork:\n",
    "    \n",
    "    #initialize the neural network\n",
    "    def __init__(self, inputnodes,hiddennodes,outputnodes,learningrate):\n",
    "        self.inputnodes = inputnodes\n",
    "        self.hiddennodes = hiddennodes\n",
    "        self.outputnodes = outputnodes\n",
    "        self.learningrate = learningrate       \n",
    "        #pesos input-hidden\n",
    "        self.wih = np.random.normal(0.0, \n",
    "                                    pow(self.inputnodes, -0.5),\n",
    "                                    (self.hiddennodes,self.inputnodes))\n",
    "        # pesos hidden-output\n",
    "        self.who = np.random.normal(0.0, \n",
    "                                    pow(self.hiddennodes, -0.5),\n",
    "                                    (self.outputnodes,self.hiddennodes))\n",
    "        self.activation_function = lambda x: sigmoid.expit(x)\n",
    "        pass\n",
    "    \n",
    "    # query the neural network\n",
    "    def query(self, inputs_list):\n",
    "        inputs = np.array(inputs_list, ndmin=2).T\n",
    "        \n",
    "        hidden_inputs = np.dot(self.wih, inputs)\n",
    "        hidden_outputs = self.activation_function(hidden_inputs)\n",
    "        \n",
    "        final_inputs = np.dot(self.who, hidden_outputs)\n",
    "        final_outputs = self.activation_function(final_inputs)\n",
    "        \n",
    "        return final_outputs\n",
    "    # train the neural network\n",
    "    def train(self, inputs_list, targets_list):\n",
    "        inputs = np.array(inputs_list, ndmin=2).T\n",
    "        targets = np.array(targets_list, ndmin=2).T\n",
    "        \n",
    "        hidden_inputs = np.dot(self.wih, inputs)\n",
    "        hidden_outputs = self.activation_function(hidden_inputs)\n",
    "        \n",
    "        final_inputs = np.dot(self.who, hidden_outputs)\n",
    "        final_outputs = self.activation_function(final_inputs)\n",
    "        \n",
    "        output_errors = targets - final_outputs\n",
    "        hidden_errors = np.dot(self.who.T, output_errors)\n",
    "        \n",
    "        self.who += self.learningrate*np.dot((output_errors*final_outputs*(1.0-final_outputs)),np.transpose(hidden_outputs))\n",
    "        self.wih += self.learningrate*np.dot((hidden_errors*hidden_outputs*(1.0-hidden_outputs)),np.transpose(inputs))\n",
    "        \n",
    "        pass"
   ]
  },
  {
   "cell_type": "markdown",
   "metadata": {},
   "source": [
    "## inicializamos los nodos de la red"
   ]
  },
  {
   "cell_type": "code",
   "execution_count": 138,
   "metadata": {
    "collapsed": false
   },
   "outputs": [],
   "source": [
    "inputnodes = 3\n",
    "hiddennodes = 5\n",
    "outputnodes = 1\n",
    "\n",
    "learningrate = 0.3 # cuanto vamos avanzar\n",
    "\n",
    "n = NeuralNetwork(inputnodes, hiddennodes,outputnodes,learningrate)"
   ]
  },
  {
   "cell_type": "code",
   "execution_count": 139,
   "metadata": {
    "collapsed": false
   },
   "outputs": [
    {
     "data": {
      "text/plain": [
       "array([[ 0.69646919,  0.28613933,  0.22685145],\n",
       "       [ 0.55131477,  0.71946897,  0.42310646],\n",
       "       [ 0.9807642 ,  0.68482974,  0.4809319 ]])"
      ]
     },
     "execution_count": 139,
     "metadata": {},
     "output_type": "execute_result"
    }
   ],
   "source": [
    "np.random.seed(123)\n",
    "input_nodes = np.random.rand(3,3)\n",
    "input_nodes"
   ]
  },
  {
   "cell_type": "code",
   "execution_count": 140,
   "metadata": {
    "collapsed": false
   },
   "outputs": [
    {
     "data": {
      "text/plain": [
       "array([[ 0.54340494],\n",
       "       [ 0.27836939],\n",
       "       [ 0.42451759]])"
      ]
     },
     "execution_count": 140,
     "metadata": {},
     "output_type": "execute_result"
    }
   ],
   "source": [
    "np.random.seed(100)\n",
    "output_nodes = np.random.rand(3,1)\n",
    "output_nodes"
   ]
  },
  {
   "cell_type": "code",
   "execution_count": 141,
   "metadata": {
    "collapsed": false
   },
   "outputs": [],
   "source": [
    "n.train(input_nodes, output_nodes)"
   ]
  },
  {
   "cell_type": "code",
   "execution_count": 147,
   "metadata": {
    "collapsed": true
   },
   "outputs": [],
   "source": [
    "inputnodes = 5\n",
    "hiddennodes = 5\n",
    "outputnodes = 2\n",
    "\n",
    "learningrate = 0.3 # cuanto vamos avanzar\n",
    "\n",
    "n = NeuralNetwork(inputnodes, hiddennodes,outputnodes,learningrate)"
   ]
  },
  {
   "cell_type": "code",
   "execution_count": 148,
   "metadata": {
    "collapsed": false
   },
   "outputs": [
    {
     "data": {
      "text/plain": [
       "array([[ 0.69646919,  0.28613933,  0.22685145,  0.55131477,  0.71946897],\n",
       "       [ 0.42310646,  0.9807642 ,  0.68482974,  0.4809319 ,  0.39211752],\n",
       "       [ 0.34317802,  0.72904971,  0.43857224,  0.0596779 ,  0.39804426]])"
      ]
     },
     "execution_count": 148,
     "metadata": {},
     "output_type": "execute_result"
    }
   ],
   "source": [
    "np.random.seed(123)\n",
    "input_nodes = np.random.rand(3,5)\n",
    "input_nodes"
   ]
  },
  {
   "cell_type": "code",
   "execution_count": 149,
   "metadata": {
    "collapsed": false
   },
   "outputs": [
    {
     "data": {
      "text/plain": [
       "array([[ 0.54340494],\n",
       "       [ 0.27836939],\n",
       "       [ 0.42451759]])"
      ]
     },
     "execution_count": 149,
     "metadata": {},
     "output_type": "execute_result"
    }
   ],
   "source": [
    "np.random.seed(100)\n",
    "output_nodes = np.random.rand(3,1)\n",
    "output_nodes"
   ]
  },
  {
   "cell_type": "code",
   "execution_count": 150,
   "metadata": {
    "collapsed": false
   },
   "outputs": [],
   "source": [
    "n.train(input_nodes, output_nodes)"
   ]
  },
  {
   "cell_type": "code",
   "execution_count": 151,
   "metadata": {
    "collapsed": false
   },
   "outputs": [
    {
     "data": {
      "text/plain": [
       "array([[ 0.71435492,  0.70421598,  0.72566052],\n",
       "       [ 0.33658369,  0.36323093,  0.35144396]])"
      ]
     },
     "execution_count": 151,
     "metadata": {},
     "output_type": "execute_result"
    }
   ],
   "source": [
    "n.query(input_nodes)"
   ]
  },
  {
   "cell_type": "code",
   "execution_count": 160,
   "metadata": {
    "collapsed": true
   },
   "outputs": [],
   "source": [
    "inputnodes = 10\n",
    "hiddennodes = 5\n",
    "outputnodes = 1\n",
    "\n",
    "learningrate = 0.3 # cuanto vamos avanzar\n",
    "\n",
    "n = NeuralNetwork(inputnodes, hiddennodes,outputnodes,learningrate)"
   ]
  },
  {
   "cell_type": "code",
   "execution_count": 161,
   "metadata": {
    "collapsed": false
   },
   "outputs": [
    {
     "data": {
      "text/plain": [
       "array([[ 0.69646919,  0.28613933,  0.22685145,  0.55131477,  0.71946897,\n",
       "         0.42310646,  0.9807642 ,  0.68482974,  0.4809319 ,  0.39211752],\n",
       "       [ 0.34317802,  0.72904971,  0.43857224,  0.0596779 ,  0.39804426,\n",
       "         0.73799541,  0.18249173,  0.17545176,  0.53155137,  0.53182759],\n",
       "       [ 0.63440096,  0.84943179,  0.72445532,  0.61102351,  0.72244338,\n",
       "         0.32295891,  0.36178866,  0.22826323,  0.29371405,  0.63097612],\n",
       "       [ 0.09210494,  0.43370117,  0.43086276,  0.4936851 ,  0.42583029,\n",
       "         0.31226122,  0.42635131,  0.89338916,  0.94416002,  0.50183668],\n",
       "       [ 0.62395295,  0.1156184 ,  0.31728548,  0.41482621,  0.86630916,\n",
       "         0.25045537,  0.48303426,  0.98555979,  0.51948512,  0.61289453]])"
      ]
     },
     "execution_count": 161,
     "metadata": {},
     "output_type": "execute_result"
    }
   ],
   "source": [
    "np.random.seed(123)\n",
    "input_nodes = np.random.rand(5,10)\n",
    "input_nodes"
   ]
  },
  {
   "cell_type": "code",
   "execution_count": 162,
   "metadata": {
    "collapsed": false
   },
   "outputs": [
    {
     "data": {
      "text/plain": [
       "array([[ 0.54340494],\n",
       "       [ 0.27836939],\n",
       "       [ 0.42451759],\n",
       "       [ 0.84477613],\n",
       "       [ 0.00471886]])"
      ]
     },
     "execution_count": 162,
     "metadata": {},
     "output_type": "execute_result"
    }
   ],
   "source": [
    "np.random.seed(100)\n",
    "output_nodes = np.random.rand(5,1)\n",
    "output_nodes"
   ]
  },
  {
   "cell_type": "code",
   "execution_count": 163,
   "metadata": {
    "collapsed": true
   },
   "outputs": [],
   "source": [
    "n.train(input_nodes, output_nodes)"
   ]
  },
  {
   "cell_type": "code",
   "execution_count": 165,
   "metadata": {
    "collapsed": false
   },
   "outputs": [
    {
     "data": {
      "text/plain": [
       "array([[ 0.30741797]])"
      ]
     },
     "execution_count": 165,
     "metadata": {},
     "output_type": "execute_result"
    }
   ],
   "source": [
    "test_nodes = np.random.rand(1,10)\n",
    "n.query(test_nodes)"
   ]
  },
  {
   "cell_type": "code",
   "execution_count": null,
   "metadata": {
    "collapsed": true
   },
   "outputs": [],
   "source": []
  },
  {
   "cell_type": "code",
   "execution_count": null,
   "metadata": {
    "collapsed": true
   },
   "outputs": [],
   "source": []
  }
 ],
 "metadata": {
  "anaconda-cloud": {},
  "kernelspec": {
   "display_name": "Python [default]",
   "language": "python",
   "name": "python3"
  },
  "language_info": {
   "codemirror_mode": {
    "name": "ipython",
    "version": 3
   },
   "file_extension": ".py",
   "mimetype": "text/x-python",
   "name": "python",
   "nbconvert_exporter": "python",
   "pygments_lexer": "ipython3",
   "version": "3.5.2"
  }
 },
 "nbformat": 4,
 "nbformat_minor": 1
}
